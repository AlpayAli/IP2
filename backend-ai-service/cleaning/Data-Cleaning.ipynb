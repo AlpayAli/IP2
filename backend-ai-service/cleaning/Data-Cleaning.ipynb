{
 "cells": [
  {
   "cell_type": "code",
   "id": "initial_id",
   "metadata": {
    "collapsed": true,
    "ExecuteTime": {
     "end_time": "2024-11-29T10:38:44.944511Z",
     "start_time": "2024-11-29T10:38:44.717434Z"
    }
   },
   "source": [
    "import pandas as pd\n",
    "from scripts import cleaning as cl"
   ],
   "outputs": [],
   "execution_count": 1
  },
  {
   "metadata": {
    "ExecuteTime": {
     "end_time": "2024-11-29T10:38:46.541896Z",
     "start_time": "2024-11-29T10:38:44.948709Z"
    }
   },
   "cell_type": "code",
   "source": [
    "df = pd.read_excel('../data/BGG_Data_Set.xlsx')\n",
    "df.head()"
   ],
   "id": "fe92dd8dd0b30223",
   "outputs": [
    {
     "data": {
      "text/plain": [
       "         ID                               Name Year Published  Min Players  \\\n",
       "0  174430.0                         Gloomhaven           2017            1   \n",
       "1  161936.0          Pandemic Legacy: Season 1           2015            2   \n",
       "2  224517.0                  Brass: Birmingham           2018            2   \n",
       "3  167791.0                  Terraforming Mars           2016            1   \n",
       "4  233078.0  Twilight Imperium: Fourth Edition            NaN            3   \n",
       "\n",
       "   Max Players Play Time  Min Age  Users Rated Rating Average  BGG Rank  \\\n",
       "0            4       120       14        42055        8.79244         1   \n",
       "1            4        60       13        41643        8.61278         2   \n",
       "2            4       120       14        19217        8.66337         3   \n",
       "3            5       120       12        64864        8.43254         4   \n",
       "4            6       NaN       14        13468            NaN         5   \n",
       "\n",
       "   Complexity Average  Owned Users  \\\n",
       "0              3.8604      68323.0   \n",
       "1              2.8405      65294.0   \n",
       "2              3.9129      28785.0   \n",
       "3              3.2406      87099.0   \n",
       "4              4.2219      16831.0   \n",
       "\n",
       "                                           Mechanics  \\\n",
       "0  Action Queue, Action Retrieval, Campaign / Bat...   \n",
       "1  Action Points, Cooperative Game, Hand Manageme...   \n",
       "2  Hand Management, Income, Loans, Market, Networ...   \n",
       "3  Card Drafting, Drafting, End Game Bonuses, Han...   \n",
       "4  Action Drafting, Area Majority / Influence, Ar...   \n",
       "\n",
       "                          Domains  \n",
       "0  Strategy Games, Thematic Games  \n",
       "1  Strategy Games, Thematic Games  \n",
       "2                  Strategy Games  \n",
       "3                  Strategy Games  \n",
       "4  Strategy Games, Thematic Games  "
      ],
      "text/html": [
       "<div>\n",
       "<style scoped>\n",
       "    .dataframe tbody tr th:only-of-type {\n",
       "        vertical-align: middle;\n",
       "    }\n",
       "\n",
       "    .dataframe tbody tr th {\n",
       "        vertical-align: top;\n",
       "    }\n",
       "\n",
       "    .dataframe thead th {\n",
       "        text-align: right;\n",
       "    }\n",
       "</style>\n",
       "<table border=\"1\" class=\"dataframe\">\n",
       "  <thead>\n",
       "    <tr style=\"text-align: right;\">\n",
       "      <th></th>\n",
       "      <th>ID</th>\n",
       "      <th>Name</th>\n",
       "      <th>Year Published</th>\n",
       "      <th>Min Players</th>\n",
       "      <th>Max Players</th>\n",
       "      <th>Play Time</th>\n",
       "      <th>Min Age</th>\n",
       "      <th>Users Rated</th>\n",
       "      <th>Rating Average</th>\n",
       "      <th>BGG Rank</th>\n",
       "      <th>Complexity Average</th>\n",
       "      <th>Owned Users</th>\n",
       "      <th>Mechanics</th>\n",
       "      <th>Domains</th>\n",
       "    </tr>\n",
       "  </thead>\n",
       "  <tbody>\n",
       "    <tr>\n",
       "      <th>0</th>\n",
       "      <td>174430.0</td>\n",
       "      <td>Gloomhaven</td>\n",
       "      <td>2017</td>\n",
       "      <td>1</td>\n",
       "      <td>4</td>\n",
       "      <td>120</td>\n",
       "      <td>14</td>\n",
       "      <td>42055</td>\n",
       "      <td>8.79244</td>\n",
       "      <td>1</td>\n",
       "      <td>3.8604</td>\n",
       "      <td>68323.0</td>\n",
       "      <td>Action Queue, Action Retrieval, Campaign / Bat...</td>\n",
       "      <td>Strategy Games, Thematic Games</td>\n",
       "    </tr>\n",
       "    <tr>\n",
       "      <th>1</th>\n",
       "      <td>161936.0</td>\n",
       "      <td>Pandemic Legacy: Season 1</td>\n",
       "      <td>2015</td>\n",
       "      <td>2</td>\n",
       "      <td>4</td>\n",
       "      <td>60</td>\n",
       "      <td>13</td>\n",
       "      <td>41643</td>\n",
       "      <td>8.61278</td>\n",
       "      <td>2</td>\n",
       "      <td>2.8405</td>\n",
       "      <td>65294.0</td>\n",
       "      <td>Action Points, Cooperative Game, Hand Manageme...</td>\n",
       "      <td>Strategy Games, Thematic Games</td>\n",
       "    </tr>\n",
       "    <tr>\n",
       "      <th>2</th>\n",
       "      <td>224517.0</td>\n",
       "      <td>Brass: Birmingham</td>\n",
       "      <td>2018</td>\n",
       "      <td>2</td>\n",
       "      <td>4</td>\n",
       "      <td>120</td>\n",
       "      <td>14</td>\n",
       "      <td>19217</td>\n",
       "      <td>8.66337</td>\n",
       "      <td>3</td>\n",
       "      <td>3.9129</td>\n",
       "      <td>28785.0</td>\n",
       "      <td>Hand Management, Income, Loans, Market, Networ...</td>\n",
       "      <td>Strategy Games</td>\n",
       "    </tr>\n",
       "    <tr>\n",
       "      <th>3</th>\n",
       "      <td>167791.0</td>\n",
       "      <td>Terraforming Mars</td>\n",
       "      <td>2016</td>\n",
       "      <td>1</td>\n",
       "      <td>5</td>\n",
       "      <td>120</td>\n",
       "      <td>12</td>\n",
       "      <td>64864</td>\n",
       "      <td>8.43254</td>\n",
       "      <td>4</td>\n",
       "      <td>3.2406</td>\n",
       "      <td>87099.0</td>\n",
       "      <td>Card Drafting, Drafting, End Game Bonuses, Han...</td>\n",
       "      <td>Strategy Games</td>\n",
       "    </tr>\n",
       "    <tr>\n",
       "      <th>4</th>\n",
       "      <td>233078.0</td>\n",
       "      <td>Twilight Imperium: Fourth Edition</td>\n",
       "      <td>NaN</td>\n",
       "      <td>3</td>\n",
       "      <td>6</td>\n",
       "      <td>NaN</td>\n",
       "      <td>14</td>\n",
       "      <td>13468</td>\n",
       "      <td>NaN</td>\n",
       "      <td>5</td>\n",
       "      <td>4.2219</td>\n",
       "      <td>16831.0</td>\n",
       "      <td>Action Drafting, Area Majority / Influence, Ar...</td>\n",
       "      <td>Strategy Games, Thematic Games</td>\n",
       "    </tr>\n",
       "  </tbody>\n",
       "</table>\n",
       "</div>"
      ]
     },
     "execution_count": 2,
     "metadata": {},
     "output_type": "execute_result"
    }
   ],
   "execution_count": 2
  },
  {
   "metadata": {
    "ExecuteTime": {
     "end_time": "2024-11-29T10:38:46.684917Z",
     "start_time": "2024-11-29T10:38:46.673709Z"
    }
   },
   "cell_type": "code",
   "source": "df.info()",
   "id": "e22da382dcb9d071",
   "outputs": [
    {
     "name": "stdout",
     "output_type": "stream",
     "text": [
      "<class 'pandas.core.frame.DataFrame'>\n",
      "RangeIndex: 20346 entries, 0 to 20345\n",
      "Data columns (total 14 columns):\n",
      " #   Column              Non-Null Count  Dtype  \n",
      "---  ------              --------------  -----  \n",
      " 0   ID                  20330 non-null  float64\n",
      " 1   Name                20346 non-null  object \n",
      " 2   Year Published      18309 non-null  object \n",
      " 3   Min Players         20346 non-null  int64  \n",
      " 4   Max Players         20346 non-null  int64  \n",
      " 5   Play Time           18312 non-null  object \n",
      " 6   Min Age             20346 non-null  int64  \n",
      " 7   Users Rated         20346 non-null  int64  \n",
      " 8   Rating Average      18312 non-null  object \n",
      " 9   BGG Rank            20346 non-null  int64  \n",
      " 10  Complexity Average  20346 non-null  float64\n",
      " 11  Owned Users         20323 non-null  float64\n",
      " 12  Mechanics           17809 non-null  object \n",
      " 13  Domains             9665 non-null   object \n",
      "dtypes: float64(3), int64(5), object(6)\n",
      "memory usage: 2.2+ MB\n"
     ]
    }
   ],
   "execution_count": 3
  },
  {
   "metadata": {
    "ExecuteTime": {
     "end_time": "2024-11-29T10:38:46.837650Z",
     "start_time": "2024-11-29T10:38:46.760933Z"
    }
   },
   "cell_type": "code",
   "source": [
    "df['Rating Average']= cl.clean_rating(df['Rating Average'])\n",
    "df['Play Time']=cl.clean_play_time(df['Play Time'])\n",
    "df['Year Published'] = cl.clean_year_published(df['Year Published'])\n",
    "df['Mechanics'].fillna(\"Unknown\", inplace=True)\n",
    "df=cl.clean_player_count(df,'Min Players','Max Players')\n",
    "df['Min Age'] = cl.clean_min_age(df['Min Age'])\n",
    "df.drop(['Name','ID','Year Published'],axis=1,inplace=True)\n",
    "df.info()"
   ],
   "id": "de074351af062c5c",
   "outputs": [
    {
     "name": "stdout",
     "output_type": "stream",
     "text": [
      "<class 'pandas.core.frame.DataFrame'>\n",
      "RangeIndex: 20346 entries, 0 to 20345\n",
      "Data columns (total 11 columns):\n",
      " #   Column              Non-Null Count  Dtype  \n",
      "---  ------              --------------  -----  \n",
      " 0   Min Players         20346 non-null  int64  \n",
      " 1   Max Players         20346 non-null  int64  \n",
      " 2   Play Time           18312 non-null  float64\n",
      " 3   Min Age             20346 non-null  int64  \n",
      " 4   Users Rated         20346 non-null  int64  \n",
      " 5   Rating Average      18312 non-null  float64\n",
      " 6   BGG Rank            20346 non-null  int64  \n",
      " 7   Complexity Average  20346 non-null  float64\n",
      " 8   Owned Users         20323 non-null  float64\n",
      " 9   Mechanics           20346 non-null  object \n",
      " 10  Domains             9665 non-null   object \n",
      "dtypes: float64(4), int64(5), object(2)\n",
      "memory usage: 1.7+ MB\n"
     ]
    },
    {
     "name": "stderr",
     "output_type": "stream",
     "text": [
      "C:\\Users\\alpay\\AppData\\Local\\Temp\\ipykernel_17752\\2701736515.py:4: FutureWarning: A value is trying to be set on a copy of a DataFrame or Series through chained assignment using an inplace method.\n",
      "The behavior will change in pandas 3.0. This inplace method will never work because the intermediate object on which we are setting values always behaves as a copy.\n",
      "\n",
      "For example, when doing 'df[col].method(value, inplace=True)', try using 'df.method({col: value}, inplace=True)' or df[col] = df[col].method(value) instead, to perform the operation inplace on the original object.\n",
      "\n",
      "\n",
      "  df['Mechanics'].fillna(\"Unknown\", inplace=True)\n"
     ]
    }
   ],
   "execution_count": 4
  },
  {
   "metadata": {
    "ExecuteTime": {
     "end_time": "2024-11-29T10:38:46.993145Z",
     "start_time": "2024-11-29T10:38:46.971867Z"
    }
   },
   "cell_type": "code",
   "source": "df[df.duplicated(keep=False)]",
   "id": "a957cd75487b6193",
   "outputs": [
    {
     "data": {
      "text/plain": [
       "       Min Players  Max Players  Play Time  Min Age  Users Rated  \\\n",
       "2865             2            4       70.0       12         1348   \n",
       "3869             2            4       45.0       10          730   \n",
       "13502            4           20       30.0       14           43   \n",
       "20343            2            4       45.0       10          730   \n",
       "20344            4           20       30.0       14           43   \n",
       "20345            2            4       70.0       12         1348   \n",
       "\n",
       "       Rating Average  BGG Rank  Complexity Average  Owned Users  \\\n",
       "2865          6.41875      2867              2.5252       2044.0   \n",
       "3869          6.38802      3871              1.9000       1342.0   \n",
       "13502         6.45349     13504              1.0000        144.0   \n",
       "20343         6.38802      3871              1.9000       1342.0   \n",
       "20344         6.45349     13504              1.0000        144.0   \n",
       "20345         6.41875      2867              2.5252       2044.0   \n",
       "\n",
       "                             Mechanics                       Domains  \n",
       "2865      Action Points, Modular Board                Strategy Games  \n",
       "3869     Modular Board, Tile Placement  Abstract Games, Family Games  \n",
       "13502  Acting, Memory, Team-Based Game                           NaN  \n",
       "20343    Modular Board, Tile Placement  Abstract Games, Family Games  \n",
       "20344  Acting, Memory, Team-Based Game                           NaN  \n",
       "20345     Action Points, Modular Board                Strategy Games  "
      ],
      "text/html": [
       "<div>\n",
       "<style scoped>\n",
       "    .dataframe tbody tr th:only-of-type {\n",
       "        vertical-align: middle;\n",
       "    }\n",
       "\n",
       "    .dataframe tbody tr th {\n",
       "        vertical-align: top;\n",
       "    }\n",
       "\n",
       "    .dataframe thead th {\n",
       "        text-align: right;\n",
       "    }\n",
       "</style>\n",
       "<table border=\"1\" class=\"dataframe\">\n",
       "  <thead>\n",
       "    <tr style=\"text-align: right;\">\n",
       "      <th></th>\n",
       "      <th>Min Players</th>\n",
       "      <th>Max Players</th>\n",
       "      <th>Play Time</th>\n",
       "      <th>Min Age</th>\n",
       "      <th>Users Rated</th>\n",
       "      <th>Rating Average</th>\n",
       "      <th>BGG Rank</th>\n",
       "      <th>Complexity Average</th>\n",
       "      <th>Owned Users</th>\n",
       "      <th>Mechanics</th>\n",
       "      <th>Domains</th>\n",
       "    </tr>\n",
       "  </thead>\n",
       "  <tbody>\n",
       "    <tr>\n",
       "      <th>2865</th>\n",
       "      <td>2</td>\n",
       "      <td>4</td>\n",
       "      <td>70.0</td>\n",
       "      <td>12</td>\n",
       "      <td>1348</td>\n",
       "      <td>6.41875</td>\n",
       "      <td>2867</td>\n",
       "      <td>2.5252</td>\n",
       "      <td>2044.0</td>\n",
       "      <td>Action Points, Modular Board</td>\n",
       "      <td>Strategy Games</td>\n",
       "    </tr>\n",
       "    <tr>\n",
       "      <th>3869</th>\n",
       "      <td>2</td>\n",
       "      <td>4</td>\n",
       "      <td>45.0</td>\n",
       "      <td>10</td>\n",
       "      <td>730</td>\n",
       "      <td>6.38802</td>\n",
       "      <td>3871</td>\n",
       "      <td>1.9000</td>\n",
       "      <td>1342.0</td>\n",
       "      <td>Modular Board, Tile Placement</td>\n",
       "      <td>Abstract Games, Family Games</td>\n",
       "    </tr>\n",
       "    <tr>\n",
       "      <th>13502</th>\n",
       "      <td>4</td>\n",
       "      <td>20</td>\n",
       "      <td>30.0</td>\n",
       "      <td>14</td>\n",
       "      <td>43</td>\n",
       "      <td>6.45349</td>\n",
       "      <td>13504</td>\n",
       "      <td>1.0000</td>\n",
       "      <td>144.0</td>\n",
       "      <td>Acting, Memory, Team-Based Game</td>\n",
       "      <td>NaN</td>\n",
       "    </tr>\n",
       "    <tr>\n",
       "      <th>20343</th>\n",
       "      <td>2</td>\n",
       "      <td>4</td>\n",
       "      <td>45.0</td>\n",
       "      <td>10</td>\n",
       "      <td>730</td>\n",
       "      <td>6.38802</td>\n",
       "      <td>3871</td>\n",
       "      <td>1.9000</td>\n",
       "      <td>1342.0</td>\n",
       "      <td>Modular Board, Tile Placement</td>\n",
       "      <td>Abstract Games, Family Games</td>\n",
       "    </tr>\n",
       "    <tr>\n",
       "      <th>20344</th>\n",
       "      <td>4</td>\n",
       "      <td>20</td>\n",
       "      <td>30.0</td>\n",
       "      <td>14</td>\n",
       "      <td>43</td>\n",
       "      <td>6.45349</td>\n",
       "      <td>13504</td>\n",
       "      <td>1.0000</td>\n",
       "      <td>144.0</td>\n",
       "      <td>Acting, Memory, Team-Based Game</td>\n",
       "      <td>NaN</td>\n",
       "    </tr>\n",
       "    <tr>\n",
       "      <th>20345</th>\n",
       "      <td>2</td>\n",
       "      <td>4</td>\n",
       "      <td>70.0</td>\n",
       "      <td>12</td>\n",
       "      <td>1348</td>\n",
       "      <td>6.41875</td>\n",
       "      <td>2867</td>\n",
       "      <td>2.5252</td>\n",
       "      <td>2044.0</td>\n",
       "      <td>Action Points, Modular Board</td>\n",
       "      <td>Strategy Games</td>\n",
       "    </tr>\n",
       "  </tbody>\n",
       "</table>\n",
       "</div>"
      ]
     },
     "execution_count": 5,
     "metadata": {},
     "output_type": "execute_result"
    }
   ],
   "execution_count": 5
  },
  {
   "metadata": {
    "ExecuteTime": {
     "end_time": "2024-11-29T10:38:47.048697Z",
     "start_time": "2024-11-29T10:38:47.024499Z"
    }
   },
   "cell_type": "code",
   "source": [
    "df.drop_duplicates(subset =None, inplace=True, keep='first')\n",
    "df[df.duplicated(keep=False)]"
   ],
   "id": "eae845b4ff75482c",
   "outputs": [
    {
     "data": {
      "text/plain": [
       "Empty DataFrame\n",
       "Columns: [Min Players, Max Players, Play Time, Min Age, Users Rated, Rating Average, BGG Rank, Complexity Average, Owned Users, Mechanics, Domains]\n",
       "Index: []"
      ],
      "text/html": [
       "<div>\n",
       "<style scoped>\n",
       "    .dataframe tbody tr th:only-of-type {\n",
       "        vertical-align: middle;\n",
       "    }\n",
       "\n",
       "    .dataframe tbody tr th {\n",
       "        vertical-align: top;\n",
       "    }\n",
       "\n",
       "    .dataframe thead th {\n",
       "        text-align: right;\n",
       "    }\n",
       "</style>\n",
       "<table border=\"1\" class=\"dataframe\">\n",
       "  <thead>\n",
       "    <tr style=\"text-align: right;\">\n",
       "      <th></th>\n",
       "      <th>Min Players</th>\n",
       "      <th>Max Players</th>\n",
       "      <th>Play Time</th>\n",
       "      <th>Min Age</th>\n",
       "      <th>Users Rated</th>\n",
       "      <th>Rating Average</th>\n",
       "      <th>BGG Rank</th>\n",
       "      <th>Complexity Average</th>\n",
       "      <th>Owned Users</th>\n",
       "      <th>Mechanics</th>\n",
       "      <th>Domains</th>\n",
       "    </tr>\n",
       "  </thead>\n",
       "  <tbody>\n",
       "  </tbody>\n",
       "</table>\n",
       "</div>"
      ]
     },
     "execution_count": 6,
     "metadata": {},
     "output_type": "execute_result"
    }
   ],
   "execution_count": 6
  },
  {
   "metadata": {
    "ExecuteTime": {
     "end_time": "2024-11-29T10:38:47.113549Z",
     "start_time": "2024-11-29T10:38:47.106777Z"
    }
   },
   "cell_type": "code",
   "source": "df.isna().sum()",
   "id": "59dfd6da06aead34",
   "outputs": [
    {
     "data": {
      "text/plain": [
       "Min Players               0\n",
       "Max Players               0\n",
       "Play Time              2034\n",
       "Min Age                   0\n",
       "Users Rated               0\n",
       "Rating Average         2034\n",
       "BGG Rank                  0\n",
       "Complexity Average        0\n",
       "Owned Users              23\n",
       "Mechanics                 0\n",
       "Domains               10680\n",
       "dtype: int64"
      ]
     },
     "execution_count": 7,
     "metadata": {},
     "output_type": "execute_result"
    }
   ],
   "execution_count": 7
  },
  {
   "metadata": {
    "ExecuteTime": {
     "end_time": "2024-11-29T10:38:47.210524Z",
     "start_time": "2024-11-29T10:38:47.136755Z"
    }
   },
   "cell_type": "code",
   "source": "df.to_csv('../data/cleaned_data_set_v1.csv',index=False)",
   "id": "42786508008684d9",
   "outputs": [],
   "execution_count": 8
  }
 ],
 "metadata": {
  "kernelspec": {
   "display_name": "Python 3",
   "language": "python",
   "name": "python3"
  },
  "language_info": {
   "codemirror_mode": {
    "name": "ipython",
    "version": 2
   },
   "file_extension": ".py",
   "mimetype": "text/x-python",
   "name": "python",
   "nbconvert_exporter": "python",
   "pygments_lexer": "ipython2",
   "version": "2.7.6"
  }
 },
 "nbformat": 4,
 "nbformat_minor": 5
}
