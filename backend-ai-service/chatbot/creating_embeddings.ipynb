{
 "cells": [
  {
   "cell_type": "code",
   "id": "b80c4e4d3d2d976b",
   "metadata": {
    "ExecuteTime": {
     "end_time": "2024-12-13T08:04:11.741103Z",
     "start_time": "2024-12-13T08:03:36.239839Z"
    }
   },
   "source": [
    "import faiss\n",
    "import numpy as np\n",
    "import json\n",
    "from sentence_transformers import SentenceTransformer"
   ],
   "outputs": [
    {
     "name": "stderr",
     "output_type": "stream",
     "text": [
      "C:\\Users\\alpay\\Documents\\jaar3\\IP\\backend-ai-service\\venv\\Lib\\site-packages\\tqdm\\auto.py:21: TqdmWarning: IProgress not found. Please update jupyter and ipywidgets. See https://ipywidgets.readthedocs.io/en/stable/user_install.html\n",
      "  from .autonotebook import tqdm as notebook_tqdm\n"
     ]
    },
    {
     "name": "stdout",
     "output_type": "stream",
     "text": [
      "WARNING:tensorflow:From C:\\Users\\alpay\\Documents\\jaar3\\IP\\backend-ai-service\\venv\\Lib\\site-packages\\tf_keras\\src\\losses.py:2976: The name tf.losses.sparse_softmax_cross_entropy is deprecated. Please use tf.compat.v1.losses.sparse_softmax_cross_entropy instead.\n",
      "\n"
     ]
    }
   ],
   "execution_count": 1
  },
  {
   "metadata": {
    "collapsed": true,
    "ExecuteTime": {
     "end_time": "2024-12-13T08:04:30.168204Z",
     "start_time": "2024-12-13T08:04:27.003Z"
    }
   },
   "cell_type": "code",
   "source": [
    "model = SentenceTransformer('all-MiniLM-L6-v2')\n",
    "\n",
    "texts = []\n",
    "with open(\"chatbot/rules/structured_rules.json\", \"r\") as file:\n",
    "    data = json.load(file)\n",
    "    for section, rules in data.items():\n",
    "        texts.extend(rules)\n",
    "\n",
    "embeddings = model.encode(texts)\n",
    "\n",
    "embeddings = np.array(embeddings).astype(\"float32\")\n",
    "\n",
    "index = faiss.IndexFlatL2(embeddings.shape[1])\n",
    "\n",
    "index.add(embeddings)\n",
    "\n",
    "faiss.write_index(index, \"texas_holdem_rules.index\")\n",
    "\n",
    "with open(\"chatbot/rules_texts.json\", \"w\") as f:\n",
    "    json.dump(texts, f, indent=4)\n",
    "\n",
    "print(f\"Successfully added {len(embeddings)} embeddings to the FAISS index.\")"
   ],
   "id": "initial_id",
   "outputs": [
    {
     "name": "stdout",
     "output_type": "stream",
     "text": [
      "Successfully added 191 embeddings to the FAISS index.\n"
     ]
    }
   ],
   "execution_count": 3
  }
 ],
 "metadata": {
  "kernelspec": {
   "display_name": "Python 3",
   "language": "python",
   "name": "python3"
  },
  "language_info": {
   "codemirror_mode": {
    "name": "ipython",
    "version": 2
   },
   "file_extension": ".py",
   "mimetype": "text/x-python",
   "name": "python",
   "nbconvert_exporter": "python",
   "pygments_lexer": "ipython2",
   "version": "2.7.6"
  }
 },
 "nbformat": 4,
 "nbformat_minor": 5
}
